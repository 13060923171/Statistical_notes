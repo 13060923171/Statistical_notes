{
 "cells": [
  {
   "cell_type": "markdown",
   "metadata": {},
   "source": [
    "# 5.1.3.1 数据准备"
   ]
  },
  {
   "cell_type": "markdown",
   "metadata": {},
   "source": [
    "数据集非常简单，只有5组数值，每组数值有4个，共20个数字。   \n",
    "分别命名为group1、group2、group3、group4和group5，数值都是随意设置的，没有什么要求，这里大家也可以根据自己的意愿设置和使用自己的数据。"
   ]
  },
  {
   "cell_type": "code",
   "execution_count": 4,
   "metadata": {},
   "outputs": [],
   "source": [
    "group1 = [29.6, 24.3, 28.5, 32.0]\n",
    "group2 = [27.3, 32.6, 30.8, 34.8]\n",
    "group3 = [5.8, 6.2,11.0, 8.3]\n",
    "group4 = [21.6, 17.4, 18.3, 19.0]\n",
    "group5 = [29.2, 32.8, 25.0, 24.2]"
   ]
  },
  {
   "cell_type": "markdown",
   "metadata": {},
   "source": [
    "# 5.1.3.2 方法一: Scipy"
   ]
  },
  {
   "cell_type": "markdown",
   "metadata": {},
   "source": [
    "Scipy是世界上著名的Python开源科学计算库，建立在Numpy之上。   \n",
    "它增加的功能包括数值积分、最优化、统计和一些专用函数。   \n",
    "SciPy函数库在NumPy库的基础上增加了众多的数学、科学以及工程计算中常用的库函数。例如线性代数、常微分方程数值求解、信号处理、图像处理、稀疏矩阵等等。  "
   ]
  },
  {
   "cell_type": "code",
   "execution_count": 5,
   "metadata": {},
   "outputs": [],
   "source": [
    "from scipy import stats  # 导入scipy包"
   ]
  },
  {
   "cell_type": "markdown",
   "metadata": {},
   "source": [
    "* Statistical distributions and functions  \n",
    "该模块包含大量的概率分布以及不断增长的统计函数库。  \n",
    "每个单变量分布都是rv_连续（rv_离散用于离散分布）的一个子类的实例。  "
   ]
  },
  {
   "cell_type": "code",
   "execution_count": 9,
   "metadata": {},
   "outputs": [],
   "source": [
    "F, p = stats.f_oneway(group1, group2, group3, group4, group5)  #单项方差分析\n",
    "F_test = stats.f.ppf((1-0.05), 4, 15) "
   ]
  },
  {
   "cell_type": "code",
   "execution_count": 10,
   "metadata": {},
   "outputs": [
    {
     "name": "stdout",
     "output_type": "stream",
     "text": [
      "F值是: 40.88，p值是: 0.000000067\n"
     ]
    }
   ],
   "source": [
    "print('F值是: %.2f，p值是: %.9f' % (F,p))  "
   ]
  },
  {
   "cell_type": "code",
   "execution_count": 11,
   "metadata": {},
   "outputs": [
    {
     "name": "stdout",
     "output_type": "stream",
     "text": [
      "F_test的值是: 3.06\n"
     ]
    }
   ],
   "source": [
    "print('F_test的值是: %.2f' % (F_test))  "
   ]
  },
  {
   "cell_type": "code",
   "execution_count": 12,
   "metadata": {},
   "outputs": [
    {
     "name": "stdout",
     "output_type": "stream",
     "text": [
      "拒绝原假设，u1、u2、u3、u4、u5不全相等\n"
     ]
    }
   ],
   "source": [
    "if F>=F_test:  \n",
    "    print('拒绝原假设，u1、u2、u3、u4、u5不全相等')  \n",
    "else:  \n",
    "    print('接受原假设，u1=u2=u3=u4=u5') "
   ]
  },
  {
   "cell_type": "markdown",
   "metadata": {},
   "source": [
    "|Subpackage| Description|\n",
    "| :----:| :----:| \n",
    "| cluster | 聚类算法在信息理论、目标检测、通信、压缩等领域有着广泛的应用。vq模块只支持矢量量化和k-均值算法。|\n",
    "|linalg| Linear algebra 线性代数 | \n",
    "|stats| 统计函数库|   "
   ]
  },
  {
   "cell_type": "markdown",
   "metadata": {},
   "source": [
    "# 5.1.3.3 方法二: statsmodels"
   ]
  },
  {
   "cell_type": "code",
   "execution_count": 18,
   "metadata": {},
   "outputs": [],
   "source": [
    "import statsmodels.api as sm  \n",
    "import pandas as pd "
   ]
  },
  {
   "cell_type": "code",
   "execution_count": 19,
   "metadata": {},
   "outputs": [],
   "source": [
    "from statsmodels.formula.api import ols  "
   ]
  },
  {
   "cell_type": "code",
   "execution_count": 20,
   "metadata": {},
   "outputs": [],
   "source": [
    "num = sorted(['g1', 'g2', 'g3','g4', 'g5']*4)  \n",
    "data = group1 + group2 + group3 + group4 + group5  \n",
    "df = pd.DataFrame({'num':num, 'data': data})  "
   ]
  },
  {
   "cell_type": "code",
   "execution_count": 21,
   "metadata": {},
   "outputs": [],
   "source": [
    "mod = ols('data ~ num', data=df).fit()          "
   ]
  },
  {
   "cell_type": "code",
   "execution_count": 24,
   "metadata": {},
   "outputs": [
    {
     "name": "stdout",
     "output_type": "stream",
     "text": [
      "<statsmodels.regression.linear_model.RegressionResultsWrapper object at 0x0000012FF9C1F430>\n"
     ]
    }
   ],
   "source": [
    "print(mod)"
   ]
  },
  {
   "cell_type": "code",
   "execution_count": 22,
   "metadata": {},
   "outputs": [],
   "source": [
    "ano_table = sm.stats.anova_lm(mod, typ=2) # 方差分析表 "
   ]
  },
  {
   "cell_type": "code",
   "execution_count": 23,
   "metadata": {},
   "outputs": [
    {
     "name": "stdout",
     "output_type": "stream",
     "text": [
      "             sum_sq    df          F        PR(>F)\n",
      "num       1480.8230   4.0  40.884877  6.739776e-08\n",
      "Residual   135.8225  15.0        NaN           NaN\n"
     ]
    }
   ],
   "source": [
    "print(ano_table) "
   ]
  },
  {
   "cell_type": "markdown",
   "metadata": {},
   "source": [
    "* 注：  \n",
    "    um_sq列就表示平方和，df列就代表了自由度，PR(>F)列表示p值。"
   ]
  }
 ],
 "metadata": {
  "kernelspec": {
   "display_name": "jeary_ai",
   "language": "python",
   "name": "jeary_ai"
  },
  "language_info": {
   "codemirror_mode": {
    "name": "ipython",
    "version": 3
   },
   "file_extension": ".py",
   "mimetype": "text/x-python",
   "name": "python",
   "nbconvert_exporter": "python",
   "pygments_lexer": "ipython3",
   "version": "3.8.5"
  }
 },
 "nbformat": 4,
 "nbformat_minor": 4
}
